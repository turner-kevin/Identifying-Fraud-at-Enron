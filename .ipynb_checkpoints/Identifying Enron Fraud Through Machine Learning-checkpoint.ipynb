{
 "cells": [
  {
   "cell_type": "markdown",
   "metadata": {},
   "source": [
    "# Project Overview\n",
    "\n",
    "## Finding Fraud at Enron\n",
    "\n",
    "In 2000, Enron was one of the largest companies in the United States. By 2002, it had collapsed into bankruptcy due to widespread corporate fraud. In the resulting Federal investigation, a significant amount of typically confidential information entered into the public record, including tens of thousands of emails and detailed financial data for top executives. In this project, you will play detective, and put your new skills to use by building a person of interest identifier based on financial and email data made public as a result of the Enron scandal."
   ]
  },
  {
   "cell_type": "code",
   "execution_count": 1,
   "metadata": {},
   "outputs": [],
   "source": [
    "# import libraries \n",
    "import sys\n",
    "import pickle\n",
    "import matplotlib.pyplot as plt\n",
    "import numpy as np\n",
    "from feature_format import featureFormat, targetFeatureSplit\n",
    "from tester import test_classifier\n",
    "import pprint\n",
    "from sklearn.feature_selection import SelectKBest\n",
    "from sklearn import preprocessing\n",
    "from sklearn.model_selection import train_test_split\n",
    "from sklearn.naive_bayes import GaussianNB\n",
    "from sklearn.tree import DecisionTreeClassifier\n",
    "from sklearn.ensemble import AdaBoostClassifier\n",
    "from sklearn.ensemble import RandomForestClassifier\n",
    "from sklearn.neighbors import KNeighborsClassifier\n",
    "from sklearn.metrics import accuracy_score\n",
    "from sklearn.metrics import precision_score\n",
    "from sklearn.metrics import recall_score\n",
    "from time import time"
   ]
  },
  {
   "cell_type": "code",
   "execution_count": 2,
   "metadata": {},
   "outputs": [],
   "source": [
    "### load the dictionary containing the dataset\n",
    "with open(\"final_project_dataset.pkl\", \"r\") as data_file:\n",
    "    data_dict = pickle.load(data_file)"
   ]
  },
  {
   "cell_type": "markdown",
   "metadata": {},
   "source": [
    "### Question #1:\n",
    ">Summarize for us the goal of this project and how machine learning is useful in trying to accomplish it. As part of your answer, give some background on the dataset and how it can be used to answer the project question. Were there any outliers in the data when you got it, and how did you handle those?  [relevant rubric items: “data exploration”, “outlier investigation”]"
   ]
  },
  {
   "cell_type": "markdown",
   "metadata": {},
   "source": [
    "#### Investigating the dataset:"
   ]
  },
  {
   "cell_type": "markdown",
   "metadata": {},
   "source": [
    "Let's start by looking at how many indiduals and how many features our dataset includes."
   ]
  },
  {
   "cell_type": "code",
   "execution_count": 3,
   "metadata": {},
   "outputs": [
    {
     "name": "stdout",
     "output_type": "stream",
     "text": [
      "Total number of people in the dataset: 146\n"
     ]
    }
   ],
   "source": [
    "# print number of people included in the dataset\n",
    "print(\"Total number of people in the dataset: {}\".format(str(len(data_dict))))"
   ]
  },
  {
   "cell_type": "code",
   "execution_count": 4,
   "metadata": {},
   "outputs": [
    {
     "name": "stdout",
     "output_type": "stream",
     "text": [
      "Total number of features in the dataset: 21\n"
     ]
    }
   ],
   "source": [
    "# print number of features included in the dataset\n",
    "print(\"Total number of features in the dataset: {}\".format(str(len(data_dict[\"SKILLING JEFFREY K\"]))))"
   ]
  },
  {
   "cell_type": "markdown",
   "metadata": {},
   "source": [
    "So our dataset includes 146 individuals with 21 features each.\n",
    "\n",
    "Now let's see what features the dataset contains and it's data type."
   ]
  },
  {
   "cell_type": "code",
   "execution_count": 5,
   "metadata": {},
   "outputs": [
    {
     "name": "stdout",
     "output_type": "stream",
     "text": [
      "salary <type 'int'>\n",
      "to_messages <type 'int'>\n",
      "deferral_payments <type 'str'>\n",
      "total_payments <type 'int'>\n",
      "exercised_stock_options <type 'int'>\n",
      "bonus <type 'int'>\n",
      "restricted_stock <type 'int'>\n",
      "shared_receipt_with_poi <type 'int'>\n",
      "restricted_stock_deferred <type 'str'>\n",
      "total_stock_value <type 'int'>\n",
      "expenses <type 'int'>\n",
      "loan_advances <type 'str'>\n",
      "from_messages <type 'int'>\n",
      "other <type 'int'>\n",
      "from_this_person_to_poi <type 'int'>\n",
      "poi <type 'bool'>\n",
      "director_fees <type 'str'>\n",
      "deferred_income <type 'str'>\n",
      "long_term_incentive <type 'int'>\n",
      "email_address <type 'str'>\n",
      "from_poi_to_this_person <type 'int'>\n"
     ]
    }
   ],
   "source": [
    "# print the features of each individual in the dataset\n",
    "for key, value in data_dict[\"SKILLING JEFFREY K\"].iteritems() :\n",
    "    print key, type(value)"
   ]
  },
  {
   "cell_type": "markdown",
   "metadata": {},
   "source": [
    "Above we can see the 21 features that the dataset includes on each individual. One of the features present in the dataset is POI. This is an important feature as this is a boolean flag that determines if an idnividual is on of interest. How many individuals in our dataset are flagged as POI?"
   ]
  },
  {
   "cell_type": "code",
   "execution_count": 6,
   "metadata": {},
   "outputs": [
    {
     "name": "stdout",
     "output_type": "stream",
     "text": [
      "HANNON KEVIN P\n",
      "COLWELL WESLEY\n",
      "RIEKER PAULA H\n",
      "KOPPER MICHAEL J\n",
      "SHELBY REX\n",
      "DELAINEY DAVID W\n",
      "LAY KENNETH L\n",
      "BOWEN JR RAYMOND M\n",
      "BELDEN TIMOTHY N\n",
      "FASTOW ANDREW S\n",
      "CALGER CHRISTOPHER F\n",
      "RICE KENNETH D\n",
      "SKILLING JEFFREY K\n",
      "YEAGER F SCOTT\n",
      "HIRKO JOSEPH\n",
      "KOENIG MARK E\n",
      "CAUSEY RICHARD A\n",
      "GLISAN JR BEN F\n",
      "\n",
      "Number of POIs in the dataset: 18 \n"
     ]
    }
   ],
   "source": [
    "def poi(file):\n",
    "    count = 0\n",
    "    for data in file:\n",
    "        if file[data]['poi'] == True:\n",
    "            count += 1\n",
    "            print data\n",
    "    print(\"\\nNumber of POIs in the dataset: {} \".format(str(count)))\n",
    "\n",
    "poi(data_dict)"
   ]
  },
  {
   "cell_type": "markdown",
   "metadata": {},
   "source": [
    "18 individuals in out dataset are flagged as POIs."
   ]
  },
  {
   "cell_type": "markdown",
   "metadata": {},
   "source": [
    "#### Identifying outliers:"
   ]
  },
  {
   "cell_type": "markdown",
   "metadata": {},
   "source": [
    "Now that we have an idea of what our dataset looks like, we are going to explore if in outliers exist that should be addressed. We'll start by having a look at three of the main financial datapoints (salary, bonus, and total payments)."
   ]
  },
  {
   "cell_type": "code",
   "execution_count": 7,
   "metadata": {},
   "outputs": [
    {
     "data": {
      "image/png": "[encoded data removed]",
      "text/plain": [
       "<Figure size 432x288 with 1 Axes>"
      ]
     },
     "metadata": {
      "needs_background": "light"
     },
     "output_type": "display_data"
    },
    {
     "data": {
      "image/png": "[encoded data removed]",
      "text/plain": [
       "<Figure size 432x288 with 1 Axes>"
      ]
     },
     "metadata": {
      "needs_background": "light"
     },
     "output_type": "display_data"
    },
    {
     "data": {
      "image/png": "[encoded data removed]",
      "text/plain": [
       "<Figure size 432x288 with 1 Axes>"
      ]
     },
     "metadata": {
      "needs_background": "light"
     },
     "output_type": "display_data"
    }
   ],
   "source": [
    "features = [\"salary\", \"bonus\", \"total_payments\"]\n",
    "\n",
    "for feature in features:\n",
    "    i = [feature]\n",
    "    f_data = featureFormat(data_dict, i)\n",
    "    plt.boxplot(f_data)\n",
    "    plt.xlabel(feature)\n",
    "    plt.show()"
   ]
  },
  {
   "cell_type": "markdown",
   "metadata": {},
   "source": [
    "From the three boxplots above it appears that we have at least one extreme outlier in our dataset. If we can identify the outliers, maybe we can deterimine whether the outliers are valid or not.\n",
    "\n",
    "Let's take the salary information and identofy the top five highest values in our dataset."
   ]
  },
  {
   "cell_type": "code",
   "execution_count": 8,
   "metadata": {},
   "outputs": [
    {
     "name": "stdout",
     "output_type": "stream",
     "text": [
      "[('TOTAL', 309886585),\n",
      " ('LAY KENNETH L', 103559793),\n",
      " ('FREVERT MARK A', 17252530),\n",
      " ('BHATNAGAR SANJAY', 15456290),\n",
      " ('LAVORATO JOHN J', 10425757)]\n"
     ]
    }
   ],
   "source": [
    "outliers_salary = []\n",
    "for key in data_dict:\n",
    "    value = data_dict[key]['total_payments']\n",
    "    if value == 'NaN':\n",
    "        continue\n",
    "    outliers_salary.append((key,int(value)))\n",
    "\n",
    "pprint.pprint(sorted(outliers_salary,key=lambda x:x[1],reverse=True)[:5])"
   ]
  },
  {
   "cell_type": "markdown",
   "metadata": {},
   "source": [
    "Now we can clearly see that there is a \"Total\" record that appears to be totaling the values of each of the features. We'll definitly want to get rid of this as it provides no value and skews our data."
   ]
  },
  {
   "cell_type": "code",
   "execution_count": 9,
   "metadata": {},
   "outputs": [
    {
     "data": {
      "text/plain": [
       "{'bonus': 97343619,\n",
       " 'deferral_payments': 32083396,\n",
       " 'deferred_income': -27992891,\n",
       " 'director_fees': 1398517,\n",
       " 'email_address': 'NaN',\n",
       " 'exercised_stock_options': 311764000,\n",
       " 'expenses': 5235198,\n",
       " 'from_messages': 'NaN',\n",
       " 'from_poi_to_this_person': 'NaN',\n",
       " 'from_this_person_to_poi': 'NaN',\n",
       " 'loan_advances': 83925000,\n",
       " 'long_term_incentive': 48521928,\n",
       " 'other': 42667589,\n",
       " 'poi': False,\n",
       " 'restricted_stock': 130322299,\n",
       " 'restricted_stock_deferred': -7576788,\n",
       " 'salary': 26704229,\n",
       " 'shared_receipt_with_poi': 'NaN',\n",
       " 'to_messages': 'NaN',\n",
       " 'total_payments': 309886585,\n",
       " 'total_stock_value': 434509511}"
      ]
     },
     "execution_count": 9,
     "metadata": {},
     "output_type": "execute_result"
    }
   ],
   "source": [
    "data_dict.pop('TOTAL',0)"
   ]
  },
  {
   "cell_type": "markdown",
   "metadata": {},
   "source": [
    "Now let's have another look at our boxplots."
   ]
  },
  {
   "cell_type": "code",
   "execution_count": 10,
   "metadata": {},
   "outputs": [
    {
     "data": {
      "image/png": "[encoded data removed]",
      "text/plain": [
       "<Figure size 432x288 with 1 Axes>"
      ]
     },
     "metadata": {
      "needs_background": "light"
     },
     "output_type": "display_data"
    },
    {
     "data": {
      "image/png": "[encoded data removed]",
      "text/plain": [
       "<Figure size 432x288 with 1 Axes>"
      ]
     },
     "metadata": {
      "needs_background": "light"
     },
     "output_type": "display_data"
    },
    {
     "data": {
      "image/png": "[encoded data removed]",
      "text/plain": [
       "<Figure size 432x288 with 1 Axes>"
      ]
     },
     "metadata": {
      "needs_background": "light"
     },
     "output_type": "display_data"
    }
   ],
   "source": [
    "for feature in features:\n",
    "    i = [feature]\n",
    "    f_data = featureFormat(data_dict, i)\n",
    "    plt.boxplot(f_data)\n",
    "    plt.xlabel(feature)\n",
    "    plt.show()"
   ]
  },
  {
   "cell_type": "markdown",
   "metadata": {},
   "source": [
    "Salary and Bonus's are looking better, Total Payments still seem to contain extreme outliers though. We prevously looked at the top highest values of salary to find that a Total record was skewing the data. Let's do the same for Total Payments to see if we can find anything further."
   ]
  },
  {
   "cell_type": "code",
   "execution_count": 11,
   "metadata": {},
   "outputs": [
    {
     "name": "stdout",
     "output_type": "stream",
     "text": [
      "[('LAY KENNETH L', 103559793),\n",
      " ('FREVERT MARK A', 17252530),\n",
      " ('BHATNAGAR SANJAY', 15456290),\n",
      " ('LAVORATO JOHN J', 10425757),\n",
      " ('SKILLING JEFFREY K', 8682716)]\n"
     ]
    }
   ],
   "source": [
    "outliers_total_payments = []\n",
    "for key in data_dict:\n",
    "    value = data_dict[key]['total_payments']\n",
    "    if value == 'NaN':\n",
    "        continue\n",
    "    outliers_total_payments.append((key,int(value)))\n",
    "\n",
    "pprint.pprint(sorted(outliers_total_payments,key=lambda x:x[1],reverse=True)[:5])"
   ]
  },
  {
   "cell_type": "markdown",
   "metadata": {},
   "source": [
    "Though the Total Payments values appeared to be contain outliers, it looks like the records all coincide with an individuals name so should be considered valid data and remain in our dataset."
   ]
  },
  {
   "cell_type": "markdown",
   "metadata": {},
   "source": [
    "### Question #2:\n",
    ">What features did you end up using in your POI identifier, and what selection process did you use to pick them? Did you have to do any scaling? Why or why not? As part of the assignment, you should attempt to engineer your own feature that does not come ready-made in the dataset -- explain what feature you tried to make, and the rationale behind it. (You do not necessarily have to use it in the final analysis, only engineer and test it.) In your feature selection step, if you used an algorithm like a decision tree, please also give the feature importances of the features that you use, and if you used an automated feature selection function like SelectKBest, please report the feature scores and reasons for your choice of parameter values.  [relevant rubric items: “create new features”, “intelligently select features”, “properly scale features”]"
   ]
  },
  {
   "cell_type": "markdown",
   "metadata": {},
   "source": [
    "#### Feature Engineering:"
   ]
  },
  {
   "cell_type": "markdown",
   "metadata": {},
   "source": [
    "Let's create an initial features list that contains all the quantifiable values included in all of our features. That is to say values that contain information that we could perfomr mathematical calculations on. So all values that are of type int or float. We must also include POI, a boolean value, as the first item in our list."
   ]
  },
  {
   "cell_type": "code",
   "execution_count": 12,
   "metadata": {},
   "outputs": [],
   "source": [
    "features_list = ['poi']\n",
    "\n",
    "for key, value in data_dict[\"SKILLING JEFFREY K\"].iteritems():\n",
    "    if (isinstance(value, int)):\n",
    "        if (key not in features_list):\n",
    "            features_list.append(key)"
   ]
  },
  {
   "cell_type": "markdown",
   "metadata": {},
   "source": [
    "Our dataset includes quite a few good features already, but there's more that could be added.\n",
    "\n",
    "Lets add one of own to the dataset. We're going to add percent of bonus compared to salary. It may be interesting to see how much these individuals mad in bonuses in relation to thier salaries."
   ]
  },
  {
   "cell_type": "code",
   "execution_count": 13,
   "metadata": {},
   "outputs": [],
   "source": [
    "def percent_bonus_to_salary(data_dict, features_list):\n",
    "    for record in data_dict:\n",
    "        person = data_dict[record]\n",
    "        if person['salary'] == 'NaN'or person['bonus'] == 'NaN':\n",
    "            person['bonus_prct'] = 'NaN'\n",
    "        else:\n",
    "            person['bonus_prct'] = float(person['bonus']) / float(person['salary'])\n",
    "    features_list += ['bonus_prct']\n",
    "    \n",
    "percent_bonus_to_salary(data_dict, features_list)        "
   ]
  },
  {
   "cell_type": "markdown",
   "metadata": {},
   "source": [
    "Now to view a record to ensure the new feature was added."
   ]
  },
  {
   "cell_type": "code",
   "execution_count": 14,
   "metadata": {
    "scrolled": true
   },
   "outputs": [
    {
     "name": "stdout",
     "output_type": "stream",
     "text": [
      "{'to_messages': 3627, 'deferral_payments': 'NaN', 'expenses': 29336, 'poi': True, 'deferred_income': 'NaN', 'email_address': 'jeff.skilling@enron.com', 'long_term_incentive': 1920000, 'restricted_stock_deferred': 'NaN', 'shared_receipt_with_poi': 2042, 'loan_advances': 'NaN', 'from_messages': 108, 'other': 22122, 'director_fees': 'NaN', 'bonus': 5600000, 'total_stock_value': 26093672, 'from_poi_to_this_person': 88, 'from_this_person_to_poi': 30, 'bonus_prct': 5.03933380007163, 'restricted_stock': 6843672, 'salary': 1111258, 'total_payments': 8682716, 'exercised_stock_options': 19250000}\n"
     ]
    }
   ],
   "source": [
    "my_dataset = data_dict\n",
    "print my_dataset[\"SKILLING JEFFREY K\"]"
   ]
  },
  {
   "cell_type": "markdown",
   "metadata": {},
   "source": [
    "And there it is, 'bonus_prct': 5.03933380007163. WOW! His bonus reprsents 500% of his salary.\n",
    "\n",
    "And the updated features list below with bonus_prct."
   ]
  },
  {
   "cell_type": "code",
   "execution_count": 15,
   "metadata": {},
   "outputs": [
    {
     "name": "stdout",
     "output_type": "stream",
     "text": [
      "['poi', 'salary', 'to_messages', 'total_payments', 'exercised_stock_options', 'bonus', 'restricted_stock', 'shared_receipt_with_poi', 'total_stock_value', 'expenses', 'from_messages', 'other', 'from_this_person_to_poi', 'long_term_incentive', 'from_poi_to_this_person', 'bonus_prct']\n"
     ]
    }
   ],
   "source": [
    "print features_list"
   ]
  },
  {
   "cell_type": "markdown",
   "metadata": {},
   "source": [
    "#### Feature Selection:"
   ]
  },
  {
   "cell_type": "markdown",
   "metadata": {},
   "source": [
    "Now it's time to select the best features from our feature list. For this we will use SelectKBest. I didn't want to include too many features, but ceratinly enough to get acceptable results. Let's take a look at the K scores for all our features."
   ]
  },
  {
   "cell_type": "code",
   "execution_count": 16,
   "metadata": {
    "scrolled": true
   },
   "outputs": [
    {
     "name": "stdout",
     "output_type": "stream",
     "text": [
      "[('exercised_stock_options', 25.09754152873549), ('total_stock_value', 24.4676540475264), ('bonus', 21.06000170753657), ('salary', 18.575703268041785), ('bonus_prct', 10.95562707448108), ('long_term_incentive', 10.072454529369441), ('restricted_stock', 9.346700791051488), ('total_payments', 8.866721537107772), ('shared_receipt_with_poi', 8.74648553212908), ('expenses', 6.23420114050674), ('from_poi_to_this_person', 5.344941523147337), ('other', 4.204970858301416), ('from_this_person_to_poi', 2.426508127242878), ('to_messages', 1.69882434858085), ('from_messages', 0.16416449823428736)]\n"
     ]
    }
   ],
   "source": [
    "def get_Kbest (my_dataset, features_list, k):\n",
    "    data = featureFormat(my_dataset, features_list, sort_keys = True)\n",
    "    labels, features = targetFeatureSplit(data)\n",
    "\n",
    "    k_best = SelectKBest(k = k)\n",
    "    k_best.fit(features, labels)\n",
    "    scores = k_best.scores_\n",
    "    unsorted_pairs = zip(features_list[1:], scores)\n",
    "    sorted_pairs = list(reversed(sorted(unsorted_pairs, key=lambda x: x[1])))\n",
    "    if k == 'all':\n",
    "        return sorted_pairs\n",
    "    else:\n",
    "        k_best_features = dict(sorted_pairs[:k])\n",
    "        return k_best_features\n",
    "    #\"{0} best features: {1}\\n\".format(k, k_best_features.keys())\n",
    "    \n",
    "    #return k_best_features\n",
    "    \n",
    "    \n",
    "all_features_ranked = get_Kbest(my_dataset, features_list, 'all')\n",
    "\n",
    "print all_features_ranked"
   ]
  },
  {
   "cell_type": "markdown",
   "metadata": {},
   "source": [
    "As we can see the K scores vary quite a bit. Our range is between 0.16416449823428736 and 25.09754152873549. After review of all the scores let's go ahead and set the minimum threshold at ten. We can see that there are 6 features in our list that meet that minimum threchhold.\n",
    "\n",
    "Let's run our function again, this time with the K parameter as 6 to get the features that meet our minimum threshold and set update our features list."
   ]
  },
  {
   "cell_type": "code",
   "execution_count": 17,
   "metadata": {},
   "outputs": [
    {
     "name": "stdout",
     "output_type": "stream",
     "text": [
      "{'salary': 18.575703268041785, 'bonus': 21.06000170753657, 'total_stock_value': 24.4676540475264, 'exercised_stock_options': 25.09754152873549, 'bonus_prct': 10.95562707448108, 'long_term_incentive': 10.072454529369441}\n"
     ]
    }
   ],
   "source": [
    "best_features = get_Kbest(my_dataset, features_list, 6)\n",
    "\n",
    "print best_features\n",
    "\n",
    "features_list = ['poi'] + best_features.keys()"
   ]
  },
  {
   "cell_type": "markdown",
   "metadata": {},
   "source": [
    "As we can see above, SelectKBest as determined that bonus, exercised stock options, salary, total stock value, and bonus percent are the most relevant features in our dataset.\n",
    "\n",
    "Our final features list contains:\n",
    " - poi\n",
    " - bonus\n",
    " - exercised stock options\n",
    " - salary\n",
    " - total stock value\n",
    " - bonus percent\n",
    " - long term incentive\n",
    " \n",
    "Looks like our new feature we created made it into the final features list."
   ]
  },
  {
   "cell_type": "markdown",
   "metadata": {},
   "source": [
    "#### Feaure Scaling:"
   ]
  },
  {
   "cell_type": "markdown",
   "metadata": {},
   "source": [
    "Feature scaling is a method used to standardize the range of independent variables or features of data. In data processing, it is also known as data normalization and is generally performed during the data preprocessing step. Some algorithms can benefit from feature scaling, or even require feature scaling. As seen below, I will be using the GaussianNB algorithm which does not need feature scaling"
   ]
  },
  {
   "cell_type": "markdown",
   "metadata": {},
   "source": [
    "### Question #3:\n",
    ">What algorithm did you end up using? What other one(s) did you try? How did model performance differ between algorithms?  [relevant rubric item: “pick an algorithm”]"
   ]
  },
  {
   "cell_type": "markdown",
   "metadata": {},
   "source": [
    "Now we'll test our data against few algorithms and review the results.\n",
    "\n",
    "The algorithms we'll be testing are:\n",
    " - GassianNB\n",
    " - DecisionTreeClassifier\n",
    " - AdaBoostClassifier\n",
    " - RandomForestClassifier\n",
    " - KNeighborsClassifier"
   ]
  },
  {
   "cell_type": "code",
   "execution_count": 18,
   "metadata": {},
   "outputs": [],
   "source": [
    "data = featureFormat(my_dataset, features_list, sort_keys = True)\n",
    "labels, features = targetFeatureSplit(data)\n",
    "    \n",
    "from sklearn.model_selection import train_test_split\n",
    "features_train, features_test, labels_train, labels_test = \\\n",
    "    train_test_split(features, labels, test_size=0.3, random_state=42)"
   ]
  },
  {
   "cell_type": "code",
   "execution_count": 19,
   "metadata": {},
   "outputs": [
    {
     "name": "stdout",
     "output_type": "stream",
     "text": [
      "GaussianNB(priors=None, var_smoothing=1e-09)\n",
      "\tAccuracy: 0.83723\tPrecision: 0.45748\tRecall: 0.31200\tF1: 0.37099\tF2: 0.33319\n",
      "\tTotal predictions: 13000\tTrue positives:  624\tFalse positives:  740\tFalse negatives: 1376\tTrue negatives: 10260\n",
      "\n",
      "DecisionTreeClassifier(class_weight=None, criterion='gini', max_depth=None,\n",
      "            max_features=None, max_leaf_nodes=None,\n",
      "            min_impurity_decrease=0.0, min_impurity_split=None,\n",
      "            min_samples_leaf=1, min_samples_split=2,\n",
      "            min_weight_fraction_leaf=0.0, presort=False, random_state=None,\n",
      "            splitter='best')\n",
      "\tAccuracy: 0.77700\tPrecision: 0.28666\tRecall: 0.30200\tF1: 0.29413\tF2: 0.29880\n",
      "\tTotal predictions: 13000\tTrue positives:  604\tFalse positives: 1503\tFalse negatives: 1396\tTrue negatives: 9497\n",
      "\n",
      "AdaBoostClassifier(algorithm='SAMME.R', base_estimator=None,\n",
      "          learning_rate=1.0, n_estimators=50, random_state=None)\n",
      "\tAccuracy: 0.79831\tPrecision: 0.27722\tRecall: 0.19350\tF1: 0.22792\tF2: 0.20594\n",
      "\tTotal predictions: 13000\tTrue positives:  387\tFalse positives: 1009\tFalse negatives: 1613\tTrue negatives: 9991\n",
      "\n"
     ]
    },
    {
     "name": "stderr",
     "output_type": "stream",
     "text": [
      "C:\\Users\\Turner-Tablet\\Anaconda2\\lib\\site-packages\\sklearn\\ensemble\\forest.py:246: FutureWarning: The default value of n_estimators will change from 10 in version 0.20 to 100 in 0.22.\n",
      "  \"10 in version 0.20 to 100 in 0.22.\", FutureWarning)\n"
     ]
    },
    {
     "name": "stdout",
     "output_type": "stream",
     "text": [
      "RandomForestClassifier(bootstrap=True, class_weight=None, criterion='gini',\n",
      "            max_depth=None, max_features='auto', max_leaf_nodes=None,\n",
      "            min_impurity_decrease=0.0, min_impurity_split=None,\n",
      "            min_samples_leaf=1, min_samples_split=2,\n",
      "            min_weight_fraction_leaf=0.0, n_estimators=10, n_jobs=None,\n",
      "            oob_score=False, random_state=None, verbose=0,\n",
      "            warm_start=False)\n",
      "\tAccuracy: 0.83862\tPrecision: 0.44139\tRecall: 0.18450\tF1: 0.26023\tF2: 0.20880\n",
      "\tTotal predictions: 13000\tTrue positives:  369\tFalse positives:  467\tFalse negatives: 1631\tTrue negatives: 10533\n",
      "\n",
      "KNeighborsClassifier(algorithm='auto', leaf_size=30, metric='minkowski',\n",
      "           metric_params=None, n_jobs=None, n_neighbors=5, p=2,\n",
      "           weights='uniform')\n",
      "\tAccuracy: 0.85931\tPrecision: 0.60240\tRecall: 0.25150\tF1: 0.35485\tF2: 0.28466\n",
      "\tTotal predictions: 13000\tTrue positives:  503\tFalse positives:  332\tFalse negatives: 1497\tTrue negatives: 10668\n",
      "\n"
     ]
    }
   ],
   "source": [
    "clf_nb = GaussianNB()\n",
    "clf_dt = DecisionTreeClassifier()\n",
    "clf_ab = AdaBoostClassifier()\n",
    "clf_rf = RandomForestClassifier()\n",
    "clf_kn = KNeighborsClassifier()\n",
    "\n",
    "classifiers = [clf_nb, clf_dt, clf_ab, clf_rf, clf_kn]\n",
    "\n",
    "for clf in classifiers:\n",
    "    test_classifier(clf, my_dataset, features_list, folds = 1000)\n"
   ]
  },
  {
   "cell_type": "markdown",
   "metadata": {},
   "source": [
    "After reveiwing the results it looks like KNeighborsClassifier provided the highest accuracy and precision, but fell short on it's recall score. AdaBoostClassifier perfomred the worst with some of the lowest scores across the board. However, GaussianNB provided a good balance between precision and recall.\n",
    "\n",
    "We will choose to use the __GaussianNB__ algorithm."
   ]
  },
  {
   "cell_type": "markdown",
   "metadata": {},
   "source": [
    "### Question #4:\n",
    ">What does it mean to tune the parameters of an algorithm, and what can happen if you don’t do this well?  How did you tune the parameters of your particular algorithm? What parameters did you tune? (Some algorithms do not have parameters that you need to tune -- if this is the case for the one you picked, identify and briefly explain how you would have done it for the model that was not your final choice or a different model that does utilize parameter tuning, e.g. a decision tree classifier).  [relevant rubric items: “discuss parameter tuning”, “tune the algorithm”]"
   ]
  },
  {
   "cell_type": "markdown",
   "metadata": {},
   "source": [
    "Tuning parameters for the algorithm is an importnat step. The goal is to set the parameters for the algorithm to optimize it's perfomrance and complete the learning task in the most accurate and effecient way. Through parameter tuning you can fine tune the accuracy, precsion, and recall of the algorithm to obtain the desired resutls. It's very important to note that the desired results should be clearly defined upfront.\n",
    "\n",
    "The algorithm we chose, GaussianNB, does not have parameters to be tuned, however many of the other algorithms do. DecisionTreeClassifier, for example, has many parameters that can be fine tuned to increase the desried outcome. Parameters like max_depth indicates how deep the tree can be. The deeper the tree, the more splits it has and it captures more information about the data. More isn't always better as the higher value may overfit your model. This could lead to posibly good training, but not so great predictions.\n",
    "\n",
    "Let's run an example of DecisionTreeClassifier with default values vs. tuned paramaters."
   ]
  },
  {
   "cell_type": "code",
   "execution_count": 20,
   "metadata": {},
   "outputs": [
    {
     "name": "stdout",
     "output_type": "stream",
     "text": [
      "DecisionTreeClassifier(class_weight=None, criterion='gini', max_depth=None,\n",
      "            max_features=None, max_leaf_nodes=None,\n",
      "            min_impurity_decrease=0.0, min_impurity_split=None,\n",
      "            min_samples_leaf=1, min_samples_split=2,\n",
      "            min_weight_fraction_leaf=0.0, presort=False, random_state=None,\n",
      "            splitter='best')\n",
      "\tAccuracy: 0.77577\tPrecision: 0.28245\tRecall: 0.29700\tF1: 0.28954\tF2: 0.29397\n",
      "\tTotal predictions: 13000\tTrue positives:  594\tFalse positives: 1509\tFalse negatives: 1406\tTrue negatives: 9491\n",
      "\n",
      "DecisionTreeClassifier(class_weight=None, criterion='gini', max_depth=2,\n",
      "            max_features=None, max_leaf_nodes=None,\n",
      "            min_impurity_decrease=0.0, min_impurity_split=None,\n",
      "            min_samples_leaf=4, min_samples_split=4,\n",
      "            min_weight_fraction_leaf=0.0, presort=False, random_state=None,\n",
      "            splitter='best')\n",
      "\tAccuracy: 0.83015\tPrecision: 0.30597\tRecall: 0.08200\tF1: 0.12934\tF2: 0.09606\n",
      "\tTotal predictions: 13000\tTrue positives:  164\tFalse positives:  372\tFalse negatives: 1836\tTrue negatives: 10628\n",
      "\n"
     ]
    }
   ],
   "source": [
    "clf_dt = DecisionTreeClassifier()\n",
    "clf_dt_tuned = DecisionTreeClassifier(max_depth = 2, min_samples_leaf = 4, min_samples_split = 4)\n",
    "\n",
    "classifiers = [clf_dt, clf_dt_tuned]\n",
    "\n",
    "for clf in classifiers:\n",
    "    test_classifier(clf, my_dataset, features_list, folds = 1000)"
   ]
  },
  {
   "cell_type": "markdown",
   "metadata": {},
   "source": [
    "I didn't spend much time fine tuning these paramaters, however we can see that tuning the parameters is very important. The parameters passed to the classiier can have wildly different results."
   ]
  },
  {
   "cell_type": "markdown",
   "metadata": {},
   "source": [
    "### Question #5:\n",
    ">What is validation, and what’s a classic mistake you can make if you do it wrong? How did you validate your analysis?  [relevant rubric items: “discuss validation”, “validation strategy”]"
   ]
  },
  {
   "cell_type": "markdown",
   "metadata": {},
   "source": [
    "Model validation is when you take a trained model and evaluate it with a testing set of data. The testing data is a subset of the orignal data. The main dataset is subsetted into two sets of a data, a training set and testing set. The purpose of using the testing data set is to test the generalization ability of a trained model. Validation is performed to ensure that the algorithm generalizes well. One mistake that can be made is over-fitting, where the model is trained and performs well on the training dataset, but much worse on the cross-validation and test datasets. Two ways to perform validation are:\n",
    "\n",
    " - StratifiedShuffleSplit, folds = 1000 : This can be a good method when the datasets are small and skewed. The chance of splitting data like this and not getting a good mix of samples in each dataset is high. Stratification preserves the percentage of samples from each class, helping to ensure the datasets are repersntative of each other.\n",
    "\n",
    " - Cross Validation: Cross Validation is a technique which involves reserving a particular sample of a data set on which you do not train the model. Later, you test the model on this sample before finalizing the model."
   ]
  },
  {
   "cell_type": "code",
   "execution_count": 21,
   "metadata": {},
   "outputs": [
    {
     "name": "stdout",
     "output_type": "stream",
     "text": [
      "GaussianNB(priors=None, var_smoothing=1e-09)\n",
      "\tAccuracy: 0.83723\tPrecision: 0.45748\tRecall: 0.31200\tF1: 0.37099\tF2: 0.33319\n",
      "\tTotal predictions: 13000\tTrue positives:  624\tFalse positives:  740\tFalse negatives: 1376\tTrue negatives: 10260\n",
      "\n",
      "Processing time: 2.03 s\n"
     ]
    }
   ],
   "source": [
    "# GlaussianNB Validation 1 (StratifiedShuffleSplit, folds = 1000)\n",
    "# Samples are split 70/30. 70% training, 30% testin\n",
    "t0 = time()\n",
    "test_classifier(clf_nb, my_dataset, features_list)\n",
    "print 'Processing time:', round(time() - t0, 3), 's'"
   ]
  },
  {
   "cell_type": "code",
   "execution_count": 22,
   "metadata": {},
   "outputs": [
    {
     "name": "stdout",
     "output_type": "stream",
     "text": [
      "Accuracy and Deviation: (0.8625641025641025, 0.09696970493893538)\n",
      "Processing time: 0.028 s\n",
      "GaussianNB(priors=None, var_smoothing=1e-09)\n",
      "\tAccuracy: 0.83723\tPrecision: 0.45748\tRecall: 0.31200\tF1: 0.37099\tF2: 0.33319\n",
      "\tTotal predictions: 13000\tTrue positives:  624\tFalse positives:  740\tFalse negatives: 1376\tTrue negatives: 10260\n",
      "\n"
     ]
    }
   ],
   "source": [
    "# GlaussianNB Validation 2  (Cross validation)\n",
    "# Computing the score 5 consecutive times (with different splits each time)\n",
    "from sklearn.model_selection import cross_val_score\n",
    "t0 = time()\n",
    "scores = cross_val_score(clf_nb, features, labels, cv=5,scoring = 'accuracy')\n",
    "print(\"Accuracy and Deviation: \" + str((scores.mean(), scores.std() * 2)))\n",
    "print 'Processing time:', round(time() - t0, 3), 's'\n",
    "test_classifier(clf_nb, my_dataset, features_list)"
   ]
  },
  {
   "cell_type": "markdown",
   "metadata": {},
   "source": [
    "The ShuffledFoldSplit method was used to validate my algorithm."
   ]
  },
  {
   "cell_type": "markdown",
   "metadata": {},
   "source": [
    "### Question #6:\n",
    ">Give at least 2 evaluation metrics and your average performance for each of them.  Explain an interpretation of your metrics that says something human-understandable about your algorithm’s performance. [relevant rubric item: “usage of evaluation metrics”]"
   ]
  },
  {
   "cell_type": "markdown",
   "metadata": {},
   "source": [
    "The two main evalution metrics considered were precision and recall.\n",
    "\n",
    "Precision is defined as the number of true positives over the number of true positives plus the number of false positives.\n",
    "$P=\\frac{Tp}{Tp+Fp}$\n",
    "\n",
    "\n",
    "Recall is defined as the number of true positives over the number of true positives plus the number of false negatives.\n",
    "$R=\\frac{Tp}{Tp+Fn}$\n",
    "\n",
    "Precision and recall are two of the most important metrics in an algorithm, probably more impotant than accuracy.\n",
    "\n",
    "Precision is the ability of a classification model to identify only the relevant data points, where as recall is the ability of a model to find all the relevant cases within a dataset.\n",
    "\n",
    "The precision and recall scores for our classifier were:\n",
    " - Precision: 0.45748\t\n",
    " - Recall: 0.31200\n",
    "\n"
   ]
  }
 ],
 "metadata": {
  "kernelspec": {
   "display_name": "Python 2",
   "language": "python",
   "name": "python2"
  },
  "language_info": {
   "codemirror_mode": {
    "name": "ipython",
    "version": 2
   },
   "file_extension": ".py",
   "mimetype": "text/x-python",
   "name": "python",
   "nbconvert_exporter": "python",
   "pygments_lexer": "ipython2",
   "version": "2.7.15"
  }
 },
 "nbformat": 4,
 "nbformat_minor": 2
}
